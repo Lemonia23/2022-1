{
  "nbformat": 4,
  "nbformat_minor": 0,
  "metadata": {
    "colab": {
      "name": "5-6주차 과제(레몬).ipynb",
      "provenance": [],
      "authorship_tag": "ABX9TyNGf7imbEE3wZxCagJGyUg8",
      "include_colab_link": true
    },
    "kernelspec": {
      "name": "python3",
      "display_name": "Python 3"
    },
    "language_info": {
      "name": "python"
    }
  },
  "cells": [
    {
      "cell_type": "markdown",
      "metadata": {
        "id": "view-in-github",
        "colab_type": "text"
      },
      "source": [
        "<a href=\"https://colab.research.google.com/github/Lemonia23/2022-1/blob/main/5_6%EC%A3%BC%EC%B0%A8_%EA%B3%BC%EC%A0%9C(%EB%A0%88%EB%AA%AC).ipynb\" target=\"_parent\"><img src=\"https://colab.research.google.com/assets/colab-badge.svg\" alt=\"Open In Colab\"/></a>"
      ]
    },
    {
      "cell_type": "markdown",
      "source": [
        "## **학교 도서관에서 읽고 싶은 책을 추천해주는 프로그램**\n",
        "\n",
        "1.   교사는 미리 학년에 알맞은 추천도서를 주제별로 준비한다.\n",
        "2.   학생이 도서관에서 관심있는 분야를 입력한다.\n",
        "3.   분야에 맞는 추천도서가 뜬다.\n",
        "     (추천도서명/도서 위치/별점/추천친구)\n"
      ],
      "metadata": {
        "id": "EtpYgnTEI-K5"
      }
    },
    {
      "cell_type": "code",
      "source": [
        "# 한글 폰트 세팅하기\n",
        "!apt-get install fonts-nanum -qq > /dev/null\n",
        "!fc-cache -fv\n",
        "import matplotlib as mpl\n",
        "mpl.font_manager._rebuild()\n",
        "findfont = mpl.font_manager.fontManager.findfont\n",
        "mpl.font_manager.findfont = findfont\n",
        "mpl.backends.backend_agg.findfont = findfont\n",
        "\n",
        "import matplotlib.pyplot as plt\n",
        "plt.rc('font', family = 'NanumGothic')\n",
        "plt.rcParams['axes.unicode_minus'] = False"
      ],
      "metadata": {
        "id": "b5xQ1kihO3Wz"
      },
      "execution_count": null,
      "outputs": []
    },
    {
      "cell_type": "code",
      "source": [
        "# 데이터 업로드하기\n",
        "from google.colab import files\n",
        "files.upload()"
      ],
      "metadata": {
        "id": "Gq1qG9P7O1eB"
      },
      "execution_count": null,
      "outputs": []
    },
    {
      "cell_type": "code",
      "source": [
        "# 데이터 읽어오기\n",
        "\n",
        "# books.cls 파일 읽어오고 한 줄씩 출력해보기\n",
        "import csv\n",
        "data = csv.reader(open('books.csv'))\n",
        "\n",
        "for row in data :\n",
        "  print(row)"
      ],
      "metadata": {
        "colab": {
          "base_uri": "https://localhost:8080/"
        },
        "id": "Gii4BIesPFLh",
        "outputId": "4226b147-31da-462b-bccc-ff6ae8c425a5"
      },
      "execution_count": 6,
      "outputs": [
        {
          "output_type": "stream",
          "name": "stdout",
          "text": [
            "['분야', '도서명', '도서 위치', '별점', '추천친구']\n",
            "['수학', '단위가 사라졌다.', '412.7 단36ㄷ v.3', '5개', '김토끼']\n",
            "['수학', '수학귀신', '412.7 단36ㄷ v.4', '4개', '박멍이']\n",
            "['과학', '지구를 위한 발명 이야기', '556.3 발25ㄱ v.1', '5개', '이다람']\n",
            "['과학', '세계의 과학자들', '556.3 발25ㄱ v.2', '1개', '최랑이']\n",
            "['역사', '이순신', '823.5 전53ㅅ v.5', '2개', '전끼리']\n",
            "['역사', '유관순', '823.5 전53ㅅ v.6', '5개', '구여우']\n"
          ]
        }
      ]
    },
    {
      "cell_type": "code",
      "source": [
        "# 코드로 표현해보기\n",
        "import csv\n",
        "data = csv.reader(open('books.csv'))\n",
        "next(data)\n",
        "x = []\n",
        "print(input('관심있는 분야를 입력하세요.: '))\n",
        "for row in data :\n",
        "  if '' in row[0] :\n",
        "    for i in range(1, 4) :\n",
        "      x.append(row[i])\n",
        "      print(row[1])\n",
        "      print(row[2])\n",
        "      print(row[3])\n",
        "      print(row[4])\n",
        "    break"
      ],
      "metadata": {
        "colab": {
          "base_uri": "https://localhost:8080/"
        },
        "id": "l2ru-ocQJWO5",
        "outputId": "1d107fd2-9ee3-42ad-a193-04d02a992a75"
      },
      "execution_count": 13,
      "outputs": [
        {
          "output_type": "stream",
          "name": "stdout",
          "text": [
            "관심있는 분야를 입력하세요.: 과학\n",
            "과학\n",
            "단위가 사라졌다.\n",
            "412.7 단36ㄷ v.3\n",
            "5개\n",
            "김토끼\n",
            "단위가 사라졌다.\n",
            "412.7 단36ㄷ v.3\n",
            "5개\n",
            "김토끼\n",
            "단위가 사라졌다.\n",
            "412.7 단36ㄷ v.3\n",
            "5개\n",
            "김토끼\n"
          ]
        }
      ]
    },
    {
      "cell_type": "code",
      "source": [],
      "metadata": {
        "id": "fT2DVQiIMUnP"
      },
      "execution_count": null,
      "outputs": []
    }
  ]
}